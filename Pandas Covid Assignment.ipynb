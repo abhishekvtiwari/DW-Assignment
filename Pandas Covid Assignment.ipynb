{
 "cells": [
  {
   "cell_type": "code",
   "execution_count": 1,
   "id": "emotional-nickel",
   "metadata": {},
   "outputs": [],
   "source": [
    "import pandas as pd \n",
    "import numpy as np\n",
    "import matplotlib as plt\n",
    "import seaborn as sns"
   ]
  },
  {
   "cell_type": "code",
   "execution_count": 2,
   "id": "streaming-cooper",
   "metadata": {},
   "outputs": [],
   "source": [
    "Url = \"https://raw.githubusercontent.com/SR1608/Datasets/main/covid-data.csv\""
   ]
  },
  {
   "cell_type": "markdown",
   "id": "amended-foster",
   "metadata": {},
   "source": [
    "# Import the dataset using Pandas from above mentioned url."
   ]
  },
  {
   "cell_type": "code",
   "execution_count": 3,
   "id": "common-effort",
   "metadata": {},
   "outputs": [
    {
     "data": {
      "text/html": [
       "<div>\n",
       "<style scoped>\n",
       "    .dataframe tbody tr th:only-of-type {\n",
       "        vertical-align: middle;\n",
       "    }\n",
       "\n",
       "    .dataframe tbody tr th {\n",
       "        vertical-align: top;\n",
       "    }\n",
       "\n",
       "    .dataframe thead th {\n",
       "        text-align: right;\n",
       "    }\n",
       "</style>\n",
       "<table border=\"1\" class=\"dataframe\">\n",
       "  <thead>\n",
       "    <tr style=\"text-align: right;\">\n",
       "      <th></th>\n",
       "      <th>iso_code</th>\n",
       "      <th>continent</th>\n",
       "      <th>location</th>\n",
       "      <th>date</th>\n",
       "      <th>total_cases</th>\n",
       "      <th>new_cases</th>\n",
       "      <th>new_cases_smoothed</th>\n",
       "      <th>total_deaths</th>\n",
       "      <th>new_deaths</th>\n",
       "      <th>new_deaths_smoothed</th>\n",
       "      <th>...</th>\n",
       "      <th>gdp_per_capita</th>\n",
       "      <th>extreme_poverty</th>\n",
       "      <th>cardiovasc_death_rate</th>\n",
       "      <th>diabetes_prevalence</th>\n",
       "      <th>female_smokers</th>\n",
       "      <th>male_smokers</th>\n",
       "      <th>handwashing_facilities</th>\n",
       "      <th>hospital_beds_per_thousand</th>\n",
       "      <th>life_expectancy</th>\n",
       "      <th>human_development_index</th>\n",
       "    </tr>\n",
       "  </thead>\n",
       "  <tbody>\n",
       "    <tr>\n",
       "      <th>0</th>\n",
       "      <td>AFG</td>\n",
       "      <td>Asia</td>\n",
       "      <td>Afghanistan</td>\n",
       "      <td>31/12/19</td>\n",
       "      <td>NaN</td>\n",
       "      <td>0.0</td>\n",
       "      <td>NaN</td>\n",
       "      <td>NaN</td>\n",
       "      <td>0.0</td>\n",
       "      <td>NaN</td>\n",
       "      <td>...</td>\n",
       "      <td>1803.987</td>\n",
       "      <td>NaN</td>\n",
       "      <td>597.029</td>\n",
       "      <td>9.59</td>\n",
       "      <td>NaN</td>\n",
       "      <td>NaN</td>\n",
       "      <td>37.746</td>\n",
       "      <td>0.5</td>\n",
       "      <td>64.83</td>\n",
       "      <td>0.498</td>\n",
       "    </tr>\n",
       "    <tr>\n",
       "      <th>1</th>\n",
       "      <td>AFG</td>\n",
       "      <td>Asia</td>\n",
       "      <td>Afghanistan</td>\n",
       "      <td>01/01/20</td>\n",
       "      <td>NaN</td>\n",
       "      <td>0.0</td>\n",
       "      <td>NaN</td>\n",
       "      <td>NaN</td>\n",
       "      <td>0.0</td>\n",
       "      <td>NaN</td>\n",
       "      <td>...</td>\n",
       "      <td>1803.987</td>\n",
       "      <td>NaN</td>\n",
       "      <td>597.029</td>\n",
       "      <td>9.59</td>\n",
       "      <td>NaN</td>\n",
       "      <td>NaN</td>\n",
       "      <td>37.746</td>\n",
       "      <td>0.5</td>\n",
       "      <td>64.83</td>\n",
       "      <td>0.498</td>\n",
       "    </tr>\n",
       "    <tr>\n",
       "      <th>2</th>\n",
       "      <td>AFG</td>\n",
       "      <td>Asia</td>\n",
       "      <td>Afghanistan</td>\n",
       "      <td>02/01/20</td>\n",
       "      <td>NaN</td>\n",
       "      <td>0.0</td>\n",
       "      <td>NaN</td>\n",
       "      <td>NaN</td>\n",
       "      <td>0.0</td>\n",
       "      <td>NaN</td>\n",
       "      <td>...</td>\n",
       "      <td>1803.987</td>\n",
       "      <td>NaN</td>\n",
       "      <td>597.029</td>\n",
       "      <td>9.59</td>\n",
       "      <td>NaN</td>\n",
       "      <td>NaN</td>\n",
       "      <td>37.746</td>\n",
       "      <td>0.5</td>\n",
       "      <td>64.83</td>\n",
       "      <td>0.498</td>\n",
       "    </tr>\n",
       "    <tr>\n",
       "      <th>3</th>\n",
       "      <td>AFG</td>\n",
       "      <td>Asia</td>\n",
       "      <td>Afghanistan</td>\n",
       "      <td>03/01/20</td>\n",
       "      <td>NaN</td>\n",
       "      <td>0.0</td>\n",
       "      <td>NaN</td>\n",
       "      <td>NaN</td>\n",
       "      <td>0.0</td>\n",
       "      <td>NaN</td>\n",
       "      <td>...</td>\n",
       "      <td>1803.987</td>\n",
       "      <td>NaN</td>\n",
       "      <td>597.029</td>\n",
       "      <td>9.59</td>\n",
       "      <td>NaN</td>\n",
       "      <td>NaN</td>\n",
       "      <td>37.746</td>\n",
       "      <td>0.5</td>\n",
       "      <td>64.83</td>\n",
       "      <td>0.498</td>\n",
       "    </tr>\n",
       "    <tr>\n",
       "      <th>4</th>\n",
       "      <td>AFG</td>\n",
       "      <td>Asia</td>\n",
       "      <td>Afghanistan</td>\n",
       "      <td>04/01/20</td>\n",
       "      <td>NaN</td>\n",
       "      <td>0.0</td>\n",
       "      <td>NaN</td>\n",
       "      <td>NaN</td>\n",
       "      <td>0.0</td>\n",
       "      <td>NaN</td>\n",
       "      <td>...</td>\n",
       "      <td>1803.987</td>\n",
       "      <td>NaN</td>\n",
       "      <td>597.029</td>\n",
       "      <td>9.59</td>\n",
       "      <td>NaN</td>\n",
       "      <td>NaN</td>\n",
       "      <td>37.746</td>\n",
       "      <td>0.5</td>\n",
       "      <td>64.83</td>\n",
       "      <td>0.498</td>\n",
       "    </tr>\n",
       "  </tbody>\n",
       "</table>\n",
       "<p>5 rows × 49 columns</p>\n",
       "</div>"
      ],
      "text/plain": [
       "  iso_code continent     location      date  total_cases  new_cases  \\\n",
       "0      AFG      Asia  Afghanistan  31/12/19          NaN        0.0   \n",
       "1      AFG      Asia  Afghanistan  01/01/20          NaN        0.0   \n",
       "2      AFG      Asia  Afghanistan  02/01/20          NaN        0.0   \n",
       "3      AFG      Asia  Afghanistan  03/01/20          NaN        0.0   \n",
       "4      AFG      Asia  Afghanistan  04/01/20          NaN        0.0   \n",
       "\n",
       "   new_cases_smoothed  total_deaths  new_deaths  new_deaths_smoothed  ...  \\\n",
       "0                 NaN           NaN         0.0                  NaN  ...   \n",
       "1                 NaN           NaN         0.0                  NaN  ...   \n",
       "2                 NaN           NaN         0.0                  NaN  ...   \n",
       "3                 NaN           NaN         0.0                  NaN  ...   \n",
       "4                 NaN           NaN         0.0                  NaN  ...   \n",
       "\n",
       "   gdp_per_capita  extreme_poverty  cardiovasc_death_rate  \\\n",
       "0        1803.987              NaN                597.029   \n",
       "1        1803.987              NaN                597.029   \n",
       "2        1803.987              NaN                597.029   \n",
       "3        1803.987              NaN                597.029   \n",
       "4        1803.987              NaN                597.029   \n",
       "\n",
       "   diabetes_prevalence  female_smokers  male_smokers  handwashing_facilities  \\\n",
       "0                 9.59             NaN           NaN                  37.746   \n",
       "1                 9.59             NaN           NaN                  37.746   \n",
       "2                 9.59             NaN           NaN                  37.746   \n",
       "3                 9.59             NaN           NaN                  37.746   \n",
       "4                 9.59             NaN           NaN                  37.746   \n",
       "\n",
       "   hospital_beds_per_thousand  life_expectancy  human_development_index  \n",
       "0                         0.5            64.83                    0.498  \n",
       "1                         0.5            64.83                    0.498  \n",
       "2                         0.5            64.83                    0.498  \n",
       "3                         0.5            64.83                    0.498  \n",
       "4                         0.5            64.83                    0.498  \n",
       "\n",
       "[5 rows x 49 columns]"
      ]
     },
     "execution_count": 3,
     "metadata": {},
     "output_type": "execute_result"
    }
   ],
   "source": [
    "data = pd.read_csv(Url)\n",
    "data.head()"
   ]
  },
  {
   "cell_type": "markdown",
   "id": "developmental-priority",
   "metadata": {},
   "source": [
    "# Find no. of rows & columns in the dataset"
   ]
  },
  {
   "cell_type": "code",
   "execution_count": 4,
   "id": "interior-mills",
   "metadata": {},
   "outputs": [
    {
     "name": "stdout",
     "output_type": "stream",
     "text": [
      "Rows - 57394\n",
      "Columns - 49\n"
     ]
    }
   ],
   "source": [
    "print(\"Rows -\", data.shape[0])\n",
    "print(\"Columns -\", data.shape[1])"
   ]
  },
  {
   "cell_type": "markdown",
   "id": "promotional-measure",
   "metadata": {},
   "source": [
    "# Data types of columns."
   ]
  },
  {
   "cell_type": "code",
   "execution_count": 5,
   "id": "abroad-frost",
   "metadata": {},
   "outputs": [
    {
     "data": {
      "text/plain": [
       "iso_code                               object\n",
       "continent                              object\n",
       "location                               object\n",
       "date                                   object\n",
       "total_cases                           float64\n",
       "new_cases                             float64\n",
       "new_cases_smoothed                    float64\n",
       "total_deaths                          float64\n",
       "new_deaths                            float64\n",
       "new_deaths_smoothed                   float64\n",
       "total_cases_per_million               float64\n",
       "new_cases_per_million                 float64\n",
       "new_cases_smoothed_per_million        float64\n",
       "total_deaths_per_million              float64\n",
       "new_deaths_per_million                float64\n",
       "new_deaths_smoothed_per_million       float64\n",
       "reproduction_rate                     float64\n",
       "icu_patients                          float64\n",
       "icu_patients_per_million              float64\n",
       "hosp_patients                         float64\n",
       "hosp_patients_per_million             float64\n",
       "weekly_icu_admissions                 float64\n",
       "weekly_icu_admissions_per_million     float64\n",
       "weekly_hosp_admissions                float64\n",
       "weekly_hosp_admissions_per_million    float64\n",
       "total_tests                           float64\n",
       "new_tests                             float64\n",
       "total_tests_per_thousand              float64\n",
       "new_tests_per_thousand                float64\n",
       "new_tests_smoothed                    float64\n",
       "new_tests_smoothed_per_thousand       float64\n",
       "tests_per_case                        float64\n",
       "positive_rate                         float64\n",
       "stringency_index                      float64\n",
       "population                            float64\n",
       "population_density                    float64\n",
       "median_age                            float64\n",
       "aged_65_older                         float64\n",
       "aged_70_older                         float64\n",
       "gdp_per_capita                        float64\n",
       "extreme_poverty                       float64\n",
       "cardiovasc_death_rate                 float64\n",
       "diabetes_prevalence                   float64\n",
       "female_smokers                        float64\n",
       "male_smokers                          float64\n",
       "handwashing_facilities                float64\n",
       "hospital_beds_per_thousand            float64\n",
       "life_expectancy                       float64\n",
       "human_development_index               float64\n",
       "dtype: object"
      ]
     },
     "execution_count": 5,
     "metadata": {},
     "output_type": "execute_result"
    }
   ],
   "source": [
    "data.dtypes"
   ]
  },
  {
   "cell_type": "markdown",
   "id": "rational-mailman",
   "metadata": {},
   "source": [
    "# Info & describe of data in dataframe."
   ]
  },
  {
   "cell_type": "code",
   "execution_count": 6,
   "id": "incorrect-midwest",
   "metadata": {},
   "outputs": [
    {
     "name": "stdout",
     "output_type": "stream",
     "text": [
      "<class 'pandas.core.frame.DataFrame'>\n",
      "RangeIndex: 57394 entries, 0 to 57393\n",
      "Data columns (total 49 columns):\n",
      " #   Column                              Non-Null Count  Dtype  \n",
      "---  ------                              --------------  -----  \n",
      " 0   iso_code                            57071 non-null  object \n",
      " 1   continent                           56748 non-null  object \n",
      " 2   location                            57394 non-null  object \n",
      " 3   date                                57394 non-null  object \n",
      " 4   total_cases                         53758 non-null  float64\n",
      " 5   new_cases                           56465 non-null  float64\n",
      " 6   new_cases_smoothed                  55652 non-null  float64\n",
      " 7   total_deaths                        44368 non-null  float64\n",
      " 8   new_deaths                          56465 non-null  float64\n",
      " 9   new_deaths_smoothed                 55652 non-null  float64\n",
      " 10  total_cases_per_million             53471 non-null  float64\n",
      " 11  new_cases_per_million               56401 non-null  float64\n",
      " 12  new_cases_smoothed_per_million      55587 non-null  float64\n",
      " 13  total_deaths_per_million            44096 non-null  float64\n",
      " 14  new_deaths_per_million              56401 non-null  float64\n",
      " 15  new_deaths_smoothed_per_million     55587 non-null  float64\n",
      " 16  reproduction_rate                   37696 non-null  float64\n",
      " 17  icu_patients                        4490 non-null   float64\n",
      " 18  icu_patients_per_million            4490 non-null   float64\n",
      " 19  hosp_patients                       5005 non-null   float64\n",
      " 20  hosp_patients_per_million           5005 non-null   float64\n",
      " 21  weekly_icu_admissions               357 non-null    float64\n",
      " 22  weekly_icu_admissions_per_million   357 non-null    float64\n",
      " 23  weekly_hosp_admissions              645 non-null    float64\n",
      " 24  weekly_hosp_admissions_per_million  645 non-null    float64\n",
      " 25  total_tests                         22017 non-null  float64\n",
      " 26  new_tests                           21787 non-null  float64\n",
      " 27  total_tests_per_thousand            22017 non-null  float64\n",
      " 28  new_tests_per_thousand              21787 non-null  float64\n",
      " 29  new_tests_smoothed                  24612 non-null  float64\n",
      " 30  new_tests_smoothed_per_thousand     24612 non-null  float64\n",
      " 31  tests_per_case                      22802 non-null  float64\n",
      " 32  positive_rate                       23211 non-null  float64\n",
      " 33  stringency_index                    47847 non-null  float64\n",
      " 34  population                          57071 non-null  float64\n",
      " 35  population_density                  54371 non-null  float64\n",
      " 36  median_age                          51034 non-null  float64\n",
      " 37  aged_65_older                       50265 non-null  float64\n",
      " 38  aged_70_older                       50768 non-null  float64\n",
      " 39  gdp_per_capita                      50367 non-null  float64\n",
      " 40  extreme_poverty                     33571 non-null  float64\n",
      " 41  cardiovasc_death_rate               51013 non-null  float64\n",
      " 42  diabetes_prevalence                 52881 non-null  float64\n",
      " 43  female_smokers                      39669 non-null  float64\n",
      " 44  male_smokers                        39156 non-null  float64\n",
      " 45  handwashing_facilities              24176 non-null  float64\n",
      " 46  hospital_beds_per_thousand          45936 non-null  float64\n",
      " 47  life_expectancy                     56336 non-null  float64\n",
      " 48  human_development_index             49247 non-null  float64\n",
      "dtypes: float64(45), object(4)\n",
      "memory usage: 21.5+ MB\n"
     ]
    }
   ],
   "source": [
    "data.info()"
   ]
  },
  {
   "cell_type": "code",
   "execution_count": 7,
   "id": "later-cologne",
   "metadata": {},
   "outputs": [
    {
     "data": {
      "text/html": [
       "<div>\n",
       "<style scoped>\n",
       "    .dataframe tbody tr th:only-of-type {\n",
       "        vertical-align: middle;\n",
       "    }\n",
       "\n",
       "    .dataframe tbody tr th {\n",
       "        vertical-align: top;\n",
       "    }\n",
       "\n",
       "    .dataframe thead th {\n",
       "        text-align: right;\n",
       "    }\n",
       "</style>\n",
       "<table border=\"1\" class=\"dataframe\">\n",
       "  <thead>\n",
       "    <tr style=\"text-align: right;\">\n",
       "      <th></th>\n",
       "      <th>total_cases</th>\n",
       "      <th>new_cases</th>\n",
       "      <th>new_cases_smoothed</th>\n",
       "      <th>total_deaths</th>\n",
       "      <th>new_deaths</th>\n",
       "      <th>new_deaths_smoothed</th>\n",
       "      <th>total_cases_per_million</th>\n",
       "      <th>new_cases_per_million</th>\n",
       "      <th>new_cases_smoothed_per_million</th>\n",
       "      <th>total_deaths_per_million</th>\n",
       "      <th>...</th>\n",
       "      <th>gdp_per_capita</th>\n",
       "      <th>extreme_poverty</th>\n",
       "      <th>cardiovasc_death_rate</th>\n",
       "      <th>diabetes_prevalence</th>\n",
       "      <th>female_smokers</th>\n",
       "      <th>male_smokers</th>\n",
       "      <th>handwashing_facilities</th>\n",
       "      <th>hospital_beds_per_thousand</th>\n",
       "      <th>life_expectancy</th>\n",
       "      <th>human_development_index</th>\n",
       "    </tr>\n",
       "  </thead>\n",
       "  <tbody>\n",
       "    <tr>\n",
       "      <th>count</th>\n",
       "      <td>5.375800e+04</td>\n",
       "      <td>56465.000000</td>\n",
       "      <td>55652.000000</td>\n",
       "      <td>4.436800e+04</td>\n",
       "      <td>56465.000000</td>\n",
       "      <td>55652.000000</td>\n",
       "      <td>53471.000000</td>\n",
       "      <td>56401.000000</td>\n",
       "      <td>55587.000000</td>\n",
       "      <td>44096.000000</td>\n",
       "      <td>...</td>\n",
       "      <td>50367.000000</td>\n",
       "      <td>33571.000000</td>\n",
       "      <td>51013.000000</td>\n",
       "      <td>52881.000000</td>\n",
       "      <td>39669.000000</td>\n",
       "      <td>39156.000000</td>\n",
       "      <td>24176.000000</td>\n",
       "      <td>45936.000000</td>\n",
       "      <td>56336.000000</td>\n",
       "      <td>49247.000000</td>\n",
       "    </tr>\n",
       "    <tr>\n",
       "      <th>mean</th>\n",
       "      <td>1.677974e+05</td>\n",
       "      <td>1953.576941</td>\n",
       "      <td>1920.431953</td>\n",
       "      <td>6.858639e+03</td>\n",
       "      <td>47.054317</td>\n",
       "      <td>46.835439</td>\n",
       "      <td>3139.099982</td>\n",
       "      <td>39.344804</td>\n",
       "      <td>38.403211</td>\n",
       "      <td>95.335293</td>\n",
       "      <td>...</td>\n",
       "      <td>20620.172071</td>\n",
       "      <td>12.435453</td>\n",
       "      <td>252.646642</td>\n",
       "      <td>8.070269</td>\n",
       "      <td>10.741569</td>\n",
       "      <td>32.642686</td>\n",
       "      <td>52.089636</td>\n",
       "      <td>3.089724</td>\n",
       "      <td>73.937780</td>\n",
       "      <td>0.722223</td>\n",
       "    </tr>\n",
       "    <tr>\n",
       "      <th>std</th>\n",
       "      <td>1.693038e+06</td>\n",
       "      <td>18269.650340</td>\n",
       "      <td>17777.391785</td>\n",
       "      <td>5.578081e+04</td>\n",
       "      <td>390.853776</td>\n",
       "      <td>378.272794</td>\n",
       "      <td>6183.455260</td>\n",
       "      <td>133.985155</td>\n",
       "      <td>101.649441</td>\n",
       "      <td>180.721699</td>\n",
       "      <td>...</td>\n",
       "      <td>20310.999832</td>\n",
       "      <td>19.427924</td>\n",
       "      <td>117.522344</td>\n",
       "      <td>4.189605</td>\n",
       "      <td>10.470743</td>\n",
       "      <td>13.453566</td>\n",
       "      <td>31.645306</td>\n",
       "      <td>2.513193</td>\n",
       "      <td>7.397016</td>\n",
       "      <td>0.153261</td>\n",
       "    </tr>\n",
       "    <tr>\n",
       "      <th>min</th>\n",
       "      <td>1.000000e+00</td>\n",
       "      <td>-8261.000000</td>\n",
       "      <td>-552.000000</td>\n",
       "      <td>1.000000e+00</td>\n",
       "      <td>-1918.000000</td>\n",
       "      <td>-232.143000</td>\n",
       "      <td>0.001000</td>\n",
       "      <td>-2212.545000</td>\n",
       "      <td>-269.978000</td>\n",
       "      <td>0.000000</td>\n",
       "      <td>...</td>\n",
       "      <td>661.240000</td>\n",
       "      <td>0.100000</td>\n",
       "      <td>79.370000</td>\n",
       "      <td>0.990000</td>\n",
       "      <td>0.100000</td>\n",
       "      <td>7.700000</td>\n",
       "      <td>1.188000</td>\n",
       "      <td>0.100000</td>\n",
       "      <td>53.280000</td>\n",
       "      <td>0.354000</td>\n",
       "    </tr>\n",
       "    <tr>\n",
       "      <th>25%</th>\n",
       "      <td>1.800000e+02</td>\n",
       "      <td>0.000000</td>\n",
       "      <td>0.857000</td>\n",
       "      <td>1.300000e+01</td>\n",
       "      <td>0.000000</td>\n",
       "      <td>0.000000</td>\n",
       "      <td>90.033000</td>\n",
       "      <td>0.000000</td>\n",
       "      <td>0.260000</td>\n",
       "      <td>3.977750</td>\n",
       "      <td>...</td>\n",
       "      <td>5321.444000</td>\n",
       "      <td>0.500000</td>\n",
       "      <td>156.139000</td>\n",
       "      <td>5.310000</td>\n",
       "      <td>1.900000</td>\n",
       "      <td>21.400000</td>\n",
       "      <td>21.222000</td>\n",
       "      <td>1.300000</td>\n",
       "      <td>69.870000</td>\n",
       "      <td>0.601000</td>\n",
       "    </tr>\n",
       "    <tr>\n",
       "      <th>50%</th>\n",
       "      <td>2.070000e+03</td>\n",
       "      <td>14.000000</td>\n",
       "      <td>19.429000</td>\n",
       "      <td>8.400000e+01</td>\n",
       "      <td>0.000000</td>\n",
       "      <td>0.286000</td>\n",
       "      <td>593.663000</td>\n",
       "      <td>2.194000</td>\n",
       "      <td>3.863000</td>\n",
       "      <td>20.383000</td>\n",
       "      <td>...</td>\n",
       "      <td>13913.839000</td>\n",
       "      <td>2.000000</td>\n",
       "      <td>238.339000</td>\n",
       "      <td>7.110000</td>\n",
       "      <td>6.400000</td>\n",
       "      <td>31.400000</td>\n",
       "      <td>52.232000</td>\n",
       "      <td>2.500000</td>\n",
       "      <td>75.345000</td>\n",
       "      <td>0.752000</td>\n",
       "    </tr>\n",
       "    <tr>\n",
       "      <th>75%</th>\n",
       "      <td>2.235675e+04</td>\n",
       "      <td>235.000000</td>\n",
       "      <td>245.286000</td>\n",
       "      <td>7.270000e+02</td>\n",
       "      <td>4.000000</td>\n",
       "      <td>4.000000</td>\n",
       "      <td>3487.050000</td>\n",
       "      <td>25.941000</td>\n",
       "      <td>29.678500</td>\n",
       "      <td>90.571250</td>\n",
       "      <td>...</td>\n",
       "      <td>31400.840000</td>\n",
       "      <td>18.100000</td>\n",
       "      <td>318.991000</td>\n",
       "      <td>10.390000</td>\n",
       "      <td>19.600000</td>\n",
       "      <td>40.900000</td>\n",
       "      <td>83.741000</td>\n",
       "      <td>4.200000</td>\n",
       "      <td>79.380000</td>\n",
       "      <td>0.847000</td>\n",
       "    </tr>\n",
       "    <tr>\n",
       "      <th>max</th>\n",
       "      <td>5.515465e+07</td>\n",
       "      <td>646281.000000</td>\n",
       "      <td>584981.857000</td>\n",
       "      <td>1.328537e+06</td>\n",
       "      <td>10600.000000</td>\n",
       "      <td>9027.714000</td>\n",
       "      <td>76541.772000</td>\n",
       "      <td>8652.658000</td>\n",
       "      <td>2472.188000</td>\n",
       "      <td>1248.014000</td>\n",
       "      <td>...</td>\n",
       "      <td>116935.600000</td>\n",
       "      <td>77.600000</td>\n",
       "      <td>724.417000</td>\n",
       "      <td>30.530000</td>\n",
       "      <td>44.000000</td>\n",
       "      <td>78.100000</td>\n",
       "      <td>98.999000</td>\n",
       "      <td>13.800000</td>\n",
       "      <td>86.750000</td>\n",
       "      <td>0.953000</td>\n",
       "    </tr>\n",
       "  </tbody>\n",
       "</table>\n",
       "<p>8 rows × 45 columns</p>\n",
       "</div>"
      ],
      "text/plain": [
       "        total_cases      new_cases  new_cases_smoothed  total_deaths  \\\n",
       "count  5.375800e+04   56465.000000        55652.000000  4.436800e+04   \n",
       "mean   1.677974e+05    1953.576941         1920.431953  6.858639e+03   \n",
       "std    1.693038e+06   18269.650340        17777.391785  5.578081e+04   \n",
       "min    1.000000e+00   -8261.000000         -552.000000  1.000000e+00   \n",
       "25%    1.800000e+02       0.000000            0.857000  1.300000e+01   \n",
       "50%    2.070000e+03      14.000000           19.429000  8.400000e+01   \n",
       "75%    2.235675e+04     235.000000          245.286000  7.270000e+02   \n",
       "max    5.515465e+07  646281.000000       584981.857000  1.328537e+06   \n",
       "\n",
       "         new_deaths  new_deaths_smoothed  total_cases_per_million  \\\n",
       "count  56465.000000         55652.000000             53471.000000   \n",
       "mean      47.054317            46.835439              3139.099982   \n",
       "std      390.853776           378.272794              6183.455260   \n",
       "min    -1918.000000          -232.143000                 0.001000   \n",
       "25%        0.000000             0.000000                90.033000   \n",
       "50%        0.000000             0.286000               593.663000   \n",
       "75%        4.000000             4.000000              3487.050000   \n",
       "max    10600.000000          9027.714000             76541.772000   \n",
       "\n",
       "       new_cases_per_million  new_cases_smoothed_per_million  \\\n",
       "count           56401.000000                    55587.000000   \n",
       "mean               39.344804                       38.403211   \n",
       "std               133.985155                      101.649441   \n",
       "min             -2212.545000                     -269.978000   \n",
       "25%                 0.000000                        0.260000   \n",
       "50%                 2.194000                        3.863000   \n",
       "75%                25.941000                       29.678500   \n",
       "max              8652.658000                     2472.188000   \n",
       "\n",
       "       total_deaths_per_million  ...  gdp_per_capita  extreme_poverty  \\\n",
       "count              44096.000000  ...    50367.000000     33571.000000   \n",
       "mean                  95.335293  ...    20620.172071        12.435453   \n",
       "std                  180.721699  ...    20310.999832        19.427924   \n",
       "min                    0.000000  ...      661.240000         0.100000   \n",
       "25%                    3.977750  ...     5321.444000         0.500000   \n",
       "50%                   20.383000  ...    13913.839000         2.000000   \n",
       "75%                   90.571250  ...    31400.840000        18.100000   \n",
       "max                 1248.014000  ...   116935.600000        77.600000   \n",
       "\n",
       "       cardiovasc_death_rate  diabetes_prevalence  female_smokers  \\\n",
       "count           51013.000000         52881.000000    39669.000000   \n",
       "mean              252.646642             8.070269       10.741569   \n",
       "std               117.522344             4.189605       10.470743   \n",
       "min                79.370000             0.990000        0.100000   \n",
       "25%               156.139000             5.310000        1.900000   \n",
       "50%               238.339000             7.110000        6.400000   \n",
       "75%               318.991000            10.390000       19.600000   \n",
       "max               724.417000            30.530000       44.000000   \n",
       "\n",
       "       male_smokers  handwashing_facilities  hospital_beds_per_thousand  \\\n",
       "count  39156.000000            24176.000000                45936.000000   \n",
       "mean      32.642686               52.089636                    3.089724   \n",
       "std       13.453566               31.645306                    2.513193   \n",
       "min        7.700000                1.188000                    0.100000   \n",
       "25%       21.400000               21.222000                    1.300000   \n",
       "50%       31.400000               52.232000                    2.500000   \n",
       "75%       40.900000               83.741000                    4.200000   \n",
       "max       78.100000               98.999000                   13.800000   \n",
       "\n",
       "       life_expectancy  human_development_index  \n",
       "count     56336.000000             49247.000000  \n",
       "mean         73.937780                 0.722223  \n",
       "std           7.397016                 0.153261  \n",
       "min          53.280000                 0.354000  \n",
       "25%          69.870000                 0.601000  \n",
       "50%          75.345000                 0.752000  \n",
       "75%          79.380000                 0.847000  \n",
       "max          86.750000                 0.953000  \n",
       "\n",
       "[8 rows x 45 columns]"
      ]
     },
     "execution_count": 7,
     "metadata": {},
     "output_type": "execute_result"
    }
   ],
   "source": [
    "data.describe()"
   ]
  },
  {
   "cell_type": "markdown",
   "id": "outstanding-workplace",
   "metadata": {},
   "source": [
    "# Find count of unique values in location column."
   ]
  },
  {
   "cell_type": "code",
   "execution_count": 8,
   "id": "killing-austria",
   "metadata": {},
   "outputs": [
    {
     "data": {
      "text/plain": [
       "Philippines          323\n",
       "Brazil               323\n",
       "South Korea          323\n",
       "Germany              323\n",
       "Armenia              323\n",
       "                    ... \n",
       "Hong Kong             72\n",
       "Solomon Islands       33\n",
       "Wallis and Futuna     32\n",
       "Marshall Islands      20\n",
       "Vanuatu                7\n",
       "Name: location, Length: 216, dtype: int64"
      ]
     },
     "execution_count": 8,
     "metadata": {},
     "output_type": "execute_result"
    }
   ],
   "source": [
    "data[\"location\"].value_counts()"
   ]
  },
  {
   "cell_type": "markdown",
   "id": "governmental-strike",
   "metadata": {},
   "source": [
    "# Find which continent has maximum frequency using values counts."
   ]
  },
  {
   "cell_type": "code",
   "execution_count": 9,
   "id": "virtual-injection",
   "metadata": {},
   "outputs": [
    {
     "data": {
      "text/plain": [
       "'Europe'"
      ]
     },
     "execution_count": 9,
     "metadata": {},
     "output_type": "execute_result"
    }
   ],
   "source": [
    "data[\"continent\"].value_counts().index[0]"
   ]
  },
  {
   "cell_type": "markdown",
   "id": "acknowledged-faculty",
   "metadata": {},
   "source": [
    "# Find maximum & mean value in 'total_cases'."
   ]
  },
  {
   "cell_type": "code",
   "execution_count": 10,
   "id": "entertaining-return",
   "metadata": {},
   "outputs": [
    {
     "data": {
      "text/plain": [
       "55154651.0"
      ]
     },
     "execution_count": 10,
     "metadata": {},
     "output_type": "execute_result"
    }
   ],
   "source": [
    "data.total_cases.max(0)"
   ]
  },
  {
   "cell_type": "code",
   "execution_count": 11,
   "id": "serious-macro",
   "metadata": {},
   "outputs": [
    {
     "data": {
      "text/plain": [
       "167797.3688753302"
      ]
     },
     "execution_count": 11,
     "metadata": {},
     "output_type": "execute_result"
    }
   ],
   "source": [
    "data.total_cases.mean(0)"
   ]
  },
  {
   "cell_type": "markdown",
   "id": "strange-shakespeare",
   "metadata": {},
   "source": [
    "# Find 25%,50% & 75% quartile value in 'total_deaths'."
   ]
  },
  {
   "cell_type": "code",
   "execution_count": 12,
   "id": "forced-morocco",
   "metadata": {},
   "outputs": [
    {
     "name": "stdout",
     "output_type": "stream",
     "text": [
      "25 % quartile value in 'total_deaths - 13.0\n",
      "50 % quartile value in 'total_deaths - 84.0\n",
      "75 % quartile value in 'total_death - 727.0\n"
     ]
    }
   ],
   "source": [
    "print(\"25 % quartile value in 'total_deaths -\", data.total_deaths.quantile(0.25))\n",
    "print(\"50 % quartile value in 'total_deaths -\", data.total_deaths.quantile(0.5))\n",
    "print(\"75 % quartile value in 'total_death -\", data.total_deaths.quantile(0.75))"
   ]
  },
  {
   "cell_type": "markdown",
   "id": "extensive-assets",
   "metadata": {},
   "source": [
    "# Find which continent has maximum 'human_development_index'."
   ]
  },
  {
   "cell_type": "code",
   "execution_count": 13,
   "id": "generic-setting",
   "metadata": {},
   "outputs": [
    {
     "data": {
      "text/plain": [
       "38632    Europe\n",
       "Name: continent, dtype: object"
      ]
     },
     "execution_count": 13,
     "metadata": {},
     "output_type": "execute_result"
    }
   ],
   "source": [
    "data[data.human_development_index == data.human_development_index.max()].continent.head(1)"
   ]
  },
  {
   "cell_type": "markdown",
   "id": "empty-rochester",
   "metadata": {},
   "source": [
    "### Filter the dataframe with only this columns ['continent','location','date','total_cases','total_deaths','gdp_per_capita', 'human_development_index'] and update the data frame."
   ]
  },
  {
   "cell_type": "code",
   "execution_count": 14,
   "id": "great-force",
   "metadata": {},
   "outputs": [],
   "source": [
    "data = data[['continent','location','date','total_cases','total_deaths','gdp_per_capita','human_development_index']]"
   ]
  },
  {
   "cell_type": "code",
   "execution_count": 15,
   "id": "stupid-sierra",
   "metadata": {},
   "outputs": [
    {
     "data": {
      "text/html": [
       "<div>\n",
       "<style scoped>\n",
       "    .dataframe tbody tr th:only-of-type {\n",
       "        vertical-align: middle;\n",
       "    }\n",
       "\n",
       "    .dataframe tbody tr th {\n",
       "        vertical-align: top;\n",
       "    }\n",
       "\n",
       "    .dataframe thead th {\n",
       "        text-align: right;\n",
       "    }\n",
       "</style>\n",
       "<table border=\"1\" class=\"dataframe\">\n",
       "  <thead>\n",
       "    <tr style=\"text-align: right;\">\n",
       "      <th></th>\n",
       "      <th>continent</th>\n",
       "      <th>location</th>\n",
       "      <th>date</th>\n",
       "      <th>total_cases</th>\n",
       "      <th>total_deaths</th>\n",
       "      <th>gdp_per_capita</th>\n",
       "      <th>human_development_index</th>\n",
       "    </tr>\n",
       "  </thead>\n",
       "  <tbody>\n",
       "    <tr>\n",
       "      <th>0</th>\n",
       "      <td>Asia</td>\n",
       "      <td>Afghanistan</td>\n",
       "      <td>31/12/19</td>\n",
       "      <td>NaN</td>\n",
       "      <td>NaN</td>\n",
       "      <td>1803.987</td>\n",
       "      <td>0.498</td>\n",
       "    </tr>\n",
       "    <tr>\n",
       "      <th>1</th>\n",
       "      <td>Asia</td>\n",
       "      <td>Afghanistan</td>\n",
       "      <td>01/01/20</td>\n",
       "      <td>NaN</td>\n",
       "      <td>NaN</td>\n",
       "      <td>1803.987</td>\n",
       "      <td>0.498</td>\n",
       "    </tr>\n",
       "    <tr>\n",
       "      <th>2</th>\n",
       "      <td>Asia</td>\n",
       "      <td>Afghanistan</td>\n",
       "      <td>02/01/20</td>\n",
       "      <td>NaN</td>\n",
       "      <td>NaN</td>\n",
       "      <td>1803.987</td>\n",
       "      <td>0.498</td>\n",
       "    </tr>\n",
       "    <tr>\n",
       "      <th>3</th>\n",
       "      <td>Asia</td>\n",
       "      <td>Afghanistan</td>\n",
       "      <td>03/01/20</td>\n",
       "      <td>NaN</td>\n",
       "      <td>NaN</td>\n",
       "      <td>1803.987</td>\n",
       "      <td>0.498</td>\n",
       "    </tr>\n",
       "    <tr>\n",
       "      <th>4</th>\n",
       "      <td>Asia</td>\n",
       "      <td>Afghanistan</td>\n",
       "      <td>04/01/20</td>\n",
       "      <td>NaN</td>\n",
       "      <td>NaN</td>\n",
       "      <td>1803.987</td>\n",
       "      <td>0.498</td>\n",
       "    </tr>\n",
       "  </tbody>\n",
       "</table>\n",
       "</div>"
      ],
      "text/plain": [
       "  continent     location      date  total_cases  total_deaths  gdp_per_capita  \\\n",
       "0      Asia  Afghanistan  31/12/19          NaN           NaN        1803.987   \n",
       "1      Asia  Afghanistan  01/01/20          NaN           NaN        1803.987   \n",
       "2      Asia  Afghanistan  02/01/20          NaN           NaN        1803.987   \n",
       "3      Asia  Afghanistan  03/01/20          NaN           NaN        1803.987   \n",
       "4      Asia  Afghanistan  04/01/20          NaN           NaN        1803.987   \n",
       "\n",
       "   human_development_index  \n",
       "0                    0.498  \n",
       "1                    0.498  \n",
       "2                    0.498  \n",
       "3                    0.498  \n",
       "4                    0.498  "
      ]
     },
     "execution_count": 15,
     "metadata": {},
     "output_type": "execute_result"
    }
   ],
   "source": [
    "data.head()"
   ]
  },
  {
   "cell_type": "markdown",
   "id": "veterinary-customer",
   "metadata": {},
   "source": [
    "# Remove all duplicates observations"
   ]
  },
  {
   "cell_type": "code",
   "execution_count": 16,
   "id": "agreed-rainbow",
   "metadata": {},
   "outputs": [
    {
     "data": {
      "text/html": [
       "<div>\n",
       "<style scoped>\n",
       "    .dataframe tbody tr th:only-of-type {\n",
       "        vertical-align: middle;\n",
       "    }\n",
       "\n",
       "    .dataframe tbody tr th {\n",
       "        vertical-align: top;\n",
       "    }\n",
       "\n",
       "    .dataframe thead th {\n",
       "        text-align: right;\n",
       "    }\n",
       "</style>\n",
       "<table border=\"1\" class=\"dataframe\">\n",
       "  <thead>\n",
       "    <tr style=\"text-align: right;\">\n",
       "      <th></th>\n",
       "      <th>continent</th>\n",
       "      <th>location</th>\n",
       "      <th>date</th>\n",
       "      <th>total_cases</th>\n",
       "      <th>total_deaths</th>\n",
       "      <th>gdp_per_capita</th>\n",
       "      <th>human_development_index</th>\n",
       "    </tr>\n",
       "  </thead>\n",
       "  <tbody>\n",
       "    <tr>\n",
       "      <th>0</th>\n",
       "      <td>Asia</td>\n",
       "      <td>Afghanistan</td>\n",
       "      <td>31/12/19</td>\n",
       "      <td>NaN</td>\n",
       "      <td>NaN</td>\n",
       "      <td>1803.987</td>\n",
       "      <td>0.498</td>\n",
       "    </tr>\n",
       "    <tr>\n",
       "      <th>1</th>\n",
       "      <td>Asia</td>\n",
       "      <td>Afghanistan</td>\n",
       "      <td>01/01/20</td>\n",
       "      <td>NaN</td>\n",
       "      <td>NaN</td>\n",
       "      <td>1803.987</td>\n",
       "      <td>0.498</td>\n",
       "    </tr>\n",
       "    <tr>\n",
       "      <th>2</th>\n",
       "      <td>Asia</td>\n",
       "      <td>Afghanistan</td>\n",
       "      <td>02/01/20</td>\n",
       "      <td>NaN</td>\n",
       "      <td>NaN</td>\n",
       "      <td>1803.987</td>\n",
       "      <td>0.498</td>\n",
       "    </tr>\n",
       "    <tr>\n",
       "      <th>3</th>\n",
       "      <td>Asia</td>\n",
       "      <td>Afghanistan</td>\n",
       "      <td>03/01/20</td>\n",
       "      <td>NaN</td>\n",
       "      <td>NaN</td>\n",
       "      <td>1803.987</td>\n",
       "      <td>0.498</td>\n",
       "    </tr>\n",
       "    <tr>\n",
       "      <th>4</th>\n",
       "      <td>Asia</td>\n",
       "      <td>Afghanistan</td>\n",
       "      <td>04/01/20</td>\n",
       "      <td>NaN</td>\n",
       "      <td>NaN</td>\n",
       "      <td>1803.987</td>\n",
       "      <td>0.498</td>\n",
       "    </tr>\n",
       "    <tr>\n",
       "      <th>...</th>\n",
       "      <td>...</td>\n",
       "      <td>...</td>\n",
       "      <td>...</td>\n",
       "      <td>...</td>\n",
       "      <td>...</td>\n",
       "      <td>...</td>\n",
       "      <td>...</td>\n",
       "    </tr>\n",
       "    <tr>\n",
       "      <th>57389</th>\n",
       "      <td>NaN</td>\n",
       "      <td>International</td>\n",
       "      <td>13/11/20</td>\n",
       "      <td>696.0</td>\n",
       "      <td>7.0</td>\n",
       "      <td>NaN</td>\n",
       "      <td>NaN</td>\n",
       "    </tr>\n",
       "    <tr>\n",
       "      <th>57390</th>\n",
       "      <td>NaN</td>\n",
       "      <td>International</td>\n",
       "      <td>14/11/20</td>\n",
       "      <td>696.0</td>\n",
       "      <td>7.0</td>\n",
       "      <td>NaN</td>\n",
       "      <td>NaN</td>\n",
       "    </tr>\n",
       "    <tr>\n",
       "      <th>57391</th>\n",
       "      <td>NaN</td>\n",
       "      <td>International</td>\n",
       "      <td>15/11/20</td>\n",
       "      <td>696.0</td>\n",
       "      <td>7.0</td>\n",
       "      <td>NaN</td>\n",
       "      <td>NaN</td>\n",
       "    </tr>\n",
       "    <tr>\n",
       "      <th>57392</th>\n",
       "      <td>NaN</td>\n",
       "      <td>International</td>\n",
       "      <td>16/11/20</td>\n",
       "      <td>696.0</td>\n",
       "      <td>7.0</td>\n",
       "      <td>NaN</td>\n",
       "      <td>NaN</td>\n",
       "    </tr>\n",
       "    <tr>\n",
       "      <th>57393</th>\n",
       "      <td>NaN</td>\n",
       "      <td>International</td>\n",
       "      <td>17/11/20</td>\n",
       "      <td>696.0</td>\n",
       "      <td>7.0</td>\n",
       "      <td>NaN</td>\n",
       "      <td>NaN</td>\n",
       "    </tr>\n",
       "  </tbody>\n",
       "</table>\n",
       "<p>57394 rows × 7 columns</p>\n",
       "</div>"
      ],
      "text/plain": [
       "      continent       location      date  total_cases  total_deaths  \\\n",
       "0          Asia    Afghanistan  31/12/19          NaN           NaN   \n",
       "1          Asia    Afghanistan  01/01/20          NaN           NaN   \n",
       "2          Asia    Afghanistan  02/01/20          NaN           NaN   \n",
       "3          Asia    Afghanistan  03/01/20          NaN           NaN   \n",
       "4          Asia    Afghanistan  04/01/20          NaN           NaN   \n",
       "...         ...            ...       ...          ...           ...   \n",
       "57389       NaN  International  13/11/20        696.0           7.0   \n",
       "57390       NaN  International  14/11/20        696.0           7.0   \n",
       "57391       NaN  International  15/11/20        696.0           7.0   \n",
       "57392       NaN  International  16/11/20        696.0           7.0   \n",
       "57393       NaN  International  17/11/20        696.0           7.0   \n",
       "\n",
       "       gdp_per_capita  human_development_index  \n",
       "0            1803.987                    0.498  \n",
       "1            1803.987                    0.498  \n",
       "2            1803.987                    0.498  \n",
       "3            1803.987                    0.498  \n",
       "4            1803.987                    0.498  \n",
       "...               ...                      ...  \n",
       "57389             NaN                      NaN  \n",
       "57390             NaN                      NaN  \n",
       "57391             NaN                      NaN  \n",
       "57392             NaN                      NaN  \n",
       "57393             NaN                      NaN  \n",
       "\n",
       "[57394 rows x 7 columns]"
      ]
     },
     "execution_count": 16,
     "metadata": {},
     "output_type": "execute_result"
    }
   ],
   "source": [
    "data.drop_duplicates()"
   ]
  },
  {
   "cell_type": "markdown",
   "id": "first-jonathan",
   "metadata": {},
   "source": [
    "# Find missing values in all columns"
   ]
  },
  {
   "cell_type": "code",
   "execution_count": 17,
   "id": "treated-cricket",
   "metadata": {},
   "outputs": [
    {
     "data": {
      "text/html": [
       "<div>\n",
       "<style scoped>\n",
       "    .dataframe tbody tr th:only-of-type {\n",
       "        vertical-align: middle;\n",
       "    }\n",
       "\n",
       "    .dataframe tbody tr th {\n",
       "        vertical-align: top;\n",
       "    }\n",
       "\n",
       "    .dataframe thead th {\n",
       "        text-align: right;\n",
       "    }\n",
       "</style>\n",
       "<table border=\"1\" class=\"dataframe\">\n",
       "  <thead>\n",
       "    <tr style=\"text-align: right;\">\n",
       "      <th></th>\n",
       "      <th>continent</th>\n",
       "      <th>location</th>\n",
       "      <th>date</th>\n",
       "      <th>total_cases</th>\n",
       "      <th>total_deaths</th>\n",
       "      <th>gdp_per_capita</th>\n",
       "      <th>human_development_index</th>\n",
       "    </tr>\n",
       "  </thead>\n",
       "  <tbody>\n",
       "    <tr>\n",
       "      <th>0</th>\n",
       "      <td>False</td>\n",
       "      <td>False</td>\n",
       "      <td>False</td>\n",
       "      <td>True</td>\n",
       "      <td>True</td>\n",
       "      <td>False</td>\n",
       "      <td>False</td>\n",
       "    </tr>\n",
       "    <tr>\n",
       "      <th>1</th>\n",
       "      <td>False</td>\n",
       "      <td>False</td>\n",
       "      <td>False</td>\n",
       "      <td>True</td>\n",
       "      <td>True</td>\n",
       "      <td>False</td>\n",
       "      <td>False</td>\n",
       "    </tr>\n",
       "    <tr>\n",
       "      <th>2</th>\n",
       "      <td>False</td>\n",
       "      <td>False</td>\n",
       "      <td>False</td>\n",
       "      <td>True</td>\n",
       "      <td>True</td>\n",
       "      <td>False</td>\n",
       "      <td>False</td>\n",
       "    </tr>\n",
       "    <tr>\n",
       "      <th>3</th>\n",
       "      <td>False</td>\n",
       "      <td>False</td>\n",
       "      <td>False</td>\n",
       "      <td>True</td>\n",
       "      <td>True</td>\n",
       "      <td>False</td>\n",
       "      <td>False</td>\n",
       "    </tr>\n",
       "    <tr>\n",
       "      <th>4</th>\n",
       "      <td>False</td>\n",
       "      <td>False</td>\n",
       "      <td>False</td>\n",
       "      <td>True</td>\n",
       "      <td>True</td>\n",
       "      <td>False</td>\n",
       "      <td>False</td>\n",
       "    </tr>\n",
       "    <tr>\n",
       "      <th>...</th>\n",
       "      <td>...</td>\n",
       "      <td>...</td>\n",
       "      <td>...</td>\n",
       "      <td>...</td>\n",
       "      <td>...</td>\n",
       "      <td>...</td>\n",
       "      <td>...</td>\n",
       "    </tr>\n",
       "    <tr>\n",
       "      <th>57389</th>\n",
       "      <td>True</td>\n",
       "      <td>False</td>\n",
       "      <td>False</td>\n",
       "      <td>False</td>\n",
       "      <td>False</td>\n",
       "      <td>True</td>\n",
       "      <td>True</td>\n",
       "    </tr>\n",
       "    <tr>\n",
       "      <th>57390</th>\n",
       "      <td>True</td>\n",
       "      <td>False</td>\n",
       "      <td>False</td>\n",
       "      <td>False</td>\n",
       "      <td>False</td>\n",
       "      <td>True</td>\n",
       "      <td>True</td>\n",
       "    </tr>\n",
       "    <tr>\n",
       "      <th>57391</th>\n",
       "      <td>True</td>\n",
       "      <td>False</td>\n",
       "      <td>False</td>\n",
       "      <td>False</td>\n",
       "      <td>False</td>\n",
       "      <td>True</td>\n",
       "      <td>True</td>\n",
       "    </tr>\n",
       "    <tr>\n",
       "      <th>57392</th>\n",
       "      <td>True</td>\n",
       "      <td>False</td>\n",
       "      <td>False</td>\n",
       "      <td>False</td>\n",
       "      <td>False</td>\n",
       "      <td>True</td>\n",
       "      <td>True</td>\n",
       "    </tr>\n",
       "    <tr>\n",
       "      <th>57393</th>\n",
       "      <td>True</td>\n",
       "      <td>False</td>\n",
       "      <td>False</td>\n",
       "      <td>False</td>\n",
       "      <td>False</td>\n",
       "      <td>True</td>\n",
       "      <td>True</td>\n",
       "    </tr>\n",
       "  </tbody>\n",
       "</table>\n",
       "<p>57394 rows × 7 columns</p>\n",
       "</div>"
      ],
      "text/plain": [
       "       continent  location   date  total_cases  total_deaths  gdp_per_capita  \\\n",
       "0          False     False  False         True          True           False   \n",
       "1          False     False  False         True          True           False   \n",
       "2          False     False  False         True          True           False   \n",
       "3          False     False  False         True          True           False   \n",
       "4          False     False  False         True          True           False   \n",
       "...          ...       ...    ...          ...           ...             ...   \n",
       "57389       True     False  False        False         False            True   \n",
       "57390       True     False  False        False         False            True   \n",
       "57391       True     False  False        False         False            True   \n",
       "57392       True     False  False        False         False            True   \n",
       "57393       True     False  False        False         False            True   \n",
       "\n",
       "       human_development_index  \n",
       "0                        False  \n",
       "1                        False  \n",
       "2                        False  \n",
       "3                        False  \n",
       "4                        False  \n",
       "...                        ...  \n",
       "57389                     True  \n",
       "57390                     True  \n",
       "57391                     True  \n",
       "57392                     True  \n",
       "57393                     True  \n",
       "\n",
       "[57394 rows x 7 columns]"
      ]
     },
     "execution_count": 17,
     "metadata": {},
     "output_type": "execute_result"
    }
   ],
   "source": [
    "data.isnull()"
   ]
  },
  {
   "cell_type": "markdown",
   "id": "consecutive-daniel",
   "metadata": {},
   "source": [
    "# Remove all observations where continent column value is missing"
   ]
  },
  {
   "cell_type": "code",
   "execution_count": 18,
   "id": "greenhouse-philippines",
   "metadata": {},
   "outputs": [
    {
     "data": {
      "text/plain": [
       "0          Asia\n",
       "1          Asia\n",
       "2          Asia\n",
       "3          Asia\n",
       "4          Asia\n",
       "          ...  \n",
       "56743    Africa\n",
       "56744    Africa\n",
       "56745    Africa\n",
       "56746    Africa\n",
       "56747    Africa\n",
       "Name: continent, Length: 56748, dtype: object"
      ]
     },
     "execution_count": 18,
     "metadata": {},
     "output_type": "execute_result"
    }
   ],
   "source": [
    "data.continent.dropna(0)"
   ]
  },
  {
   "cell_type": "markdown",
   "id": "advisory-colleague",
   "metadata": {},
   "source": [
    "# Fill all missing values with 0"
   ]
  },
  {
   "cell_type": "code",
   "execution_count": 19,
   "id": "lucky-parks",
   "metadata": {},
   "outputs": [
    {
     "data": {
      "text/html": [
       "<div>\n",
       "<style scoped>\n",
       "    .dataframe tbody tr th:only-of-type {\n",
       "        vertical-align: middle;\n",
       "    }\n",
       "\n",
       "    .dataframe tbody tr th {\n",
       "        vertical-align: top;\n",
       "    }\n",
       "\n",
       "    .dataframe thead th {\n",
       "        text-align: right;\n",
       "    }\n",
       "</style>\n",
       "<table border=\"1\" class=\"dataframe\">\n",
       "  <thead>\n",
       "    <tr style=\"text-align: right;\">\n",
       "      <th></th>\n",
       "      <th>continent</th>\n",
       "      <th>location</th>\n",
       "      <th>date</th>\n",
       "      <th>total_cases</th>\n",
       "      <th>total_deaths</th>\n",
       "      <th>gdp_per_capita</th>\n",
       "      <th>human_development_index</th>\n",
       "    </tr>\n",
       "  </thead>\n",
       "  <tbody>\n",
       "    <tr>\n",
       "      <th>0</th>\n",
       "      <td>Asia</td>\n",
       "      <td>Afghanistan</td>\n",
       "      <td>31/12/19</td>\n",
       "      <td>0.0</td>\n",
       "      <td>0.0</td>\n",
       "      <td>1803.987</td>\n",
       "      <td>0.498</td>\n",
       "    </tr>\n",
       "    <tr>\n",
       "      <th>1</th>\n",
       "      <td>Asia</td>\n",
       "      <td>Afghanistan</td>\n",
       "      <td>01/01/20</td>\n",
       "      <td>0.0</td>\n",
       "      <td>0.0</td>\n",
       "      <td>1803.987</td>\n",
       "      <td>0.498</td>\n",
       "    </tr>\n",
       "    <tr>\n",
       "      <th>2</th>\n",
       "      <td>Asia</td>\n",
       "      <td>Afghanistan</td>\n",
       "      <td>02/01/20</td>\n",
       "      <td>0.0</td>\n",
       "      <td>0.0</td>\n",
       "      <td>1803.987</td>\n",
       "      <td>0.498</td>\n",
       "    </tr>\n",
       "    <tr>\n",
       "      <th>3</th>\n",
       "      <td>Asia</td>\n",
       "      <td>Afghanistan</td>\n",
       "      <td>03/01/20</td>\n",
       "      <td>0.0</td>\n",
       "      <td>0.0</td>\n",
       "      <td>1803.987</td>\n",
       "      <td>0.498</td>\n",
       "    </tr>\n",
       "    <tr>\n",
       "      <th>4</th>\n",
       "      <td>Asia</td>\n",
       "      <td>Afghanistan</td>\n",
       "      <td>04/01/20</td>\n",
       "      <td>0.0</td>\n",
       "      <td>0.0</td>\n",
       "      <td>1803.987</td>\n",
       "      <td>0.498</td>\n",
       "    </tr>\n",
       "    <tr>\n",
       "      <th>...</th>\n",
       "      <td>...</td>\n",
       "      <td>...</td>\n",
       "      <td>...</td>\n",
       "      <td>...</td>\n",
       "      <td>...</td>\n",
       "      <td>...</td>\n",
       "      <td>...</td>\n",
       "    </tr>\n",
       "    <tr>\n",
       "      <th>57389</th>\n",
       "      <td>0</td>\n",
       "      <td>International</td>\n",
       "      <td>13/11/20</td>\n",
       "      <td>696.0</td>\n",
       "      <td>7.0</td>\n",
       "      <td>0.000</td>\n",
       "      <td>0.000</td>\n",
       "    </tr>\n",
       "    <tr>\n",
       "      <th>57390</th>\n",
       "      <td>0</td>\n",
       "      <td>International</td>\n",
       "      <td>14/11/20</td>\n",
       "      <td>696.0</td>\n",
       "      <td>7.0</td>\n",
       "      <td>0.000</td>\n",
       "      <td>0.000</td>\n",
       "    </tr>\n",
       "    <tr>\n",
       "      <th>57391</th>\n",
       "      <td>0</td>\n",
       "      <td>International</td>\n",
       "      <td>15/11/20</td>\n",
       "      <td>696.0</td>\n",
       "      <td>7.0</td>\n",
       "      <td>0.000</td>\n",
       "      <td>0.000</td>\n",
       "    </tr>\n",
       "    <tr>\n",
       "      <th>57392</th>\n",
       "      <td>0</td>\n",
       "      <td>International</td>\n",
       "      <td>16/11/20</td>\n",
       "      <td>696.0</td>\n",
       "      <td>7.0</td>\n",
       "      <td>0.000</td>\n",
       "      <td>0.000</td>\n",
       "    </tr>\n",
       "    <tr>\n",
       "      <th>57393</th>\n",
       "      <td>0</td>\n",
       "      <td>International</td>\n",
       "      <td>17/11/20</td>\n",
       "      <td>696.0</td>\n",
       "      <td>7.0</td>\n",
       "      <td>0.000</td>\n",
       "      <td>0.000</td>\n",
       "    </tr>\n",
       "  </tbody>\n",
       "</table>\n",
       "<p>57394 rows × 7 columns</p>\n",
       "</div>"
      ],
      "text/plain": [
       "      continent       location      date  total_cases  total_deaths  \\\n",
       "0          Asia    Afghanistan  31/12/19          0.0           0.0   \n",
       "1          Asia    Afghanistan  01/01/20          0.0           0.0   \n",
       "2          Asia    Afghanistan  02/01/20          0.0           0.0   \n",
       "3          Asia    Afghanistan  03/01/20          0.0           0.0   \n",
       "4          Asia    Afghanistan  04/01/20          0.0           0.0   \n",
       "...         ...            ...       ...          ...           ...   \n",
       "57389         0  International  13/11/20        696.0           7.0   \n",
       "57390         0  International  14/11/20        696.0           7.0   \n",
       "57391         0  International  15/11/20        696.0           7.0   \n",
       "57392         0  International  16/11/20        696.0           7.0   \n",
       "57393         0  International  17/11/20        696.0           7.0   \n",
       "\n",
       "       gdp_per_capita  human_development_index  \n",
       "0            1803.987                    0.498  \n",
       "1            1803.987                    0.498  \n",
       "2            1803.987                    0.498  \n",
       "3            1803.987                    0.498  \n",
       "4            1803.987                    0.498  \n",
       "...               ...                      ...  \n",
       "57389           0.000                    0.000  \n",
       "57390           0.000                    0.000  \n",
       "57391           0.000                    0.000  \n",
       "57392           0.000                    0.000  \n",
       "57393           0.000                    0.000  \n",
       "\n",
       "[57394 rows x 7 columns]"
      ]
     },
     "execution_count": 19,
     "metadata": {},
     "output_type": "execute_result"
    }
   ],
   "source": [
    "data.fillna(0)"
   ]
  },
  {
   "cell_type": "markdown",
   "id": "thorough-paper",
   "metadata": {},
   "source": [
    "# Convert date column in datetime format using pandas.to_datetime"
   ]
  },
  {
   "cell_type": "code",
   "execution_count": 20,
   "id": "charming-power",
   "metadata": {},
   "outputs": [
    {
     "data": {
      "text/plain": [
       "0       2019-12-31\n",
       "1       2020-01-01\n",
       "2       2020-02-01\n",
       "3       2020-03-01\n",
       "4       2020-04-01\n",
       "           ...    \n",
       "57389   2020-11-13\n",
       "57390   2020-11-14\n",
       "57391   2020-11-15\n",
       "57392   2020-11-16\n",
       "57393   2020-11-17\n",
       "Name: date, Length: 57394, dtype: datetime64[ns]"
      ]
     },
     "execution_count": 20,
     "metadata": {},
     "output_type": "execute_result"
    }
   ],
   "source": [
    "pd.to_datetime(data['date'])"
   ]
  },
  {
   "cell_type": "markdown",
   "id": "looking-realtor",
   "metadata": {},
   "source": [
    "# Create new column month after extracting month data from date column."
   ]
  },
  {
   "cell_type": "code",
   "execution_count": 21,
   "id": "lightweight-right",
   "metadata": {},
   "outputs": [
    {
     "data": {
      "text/html": [
       "<div>\n",
       "<style scoped>\n",
       "    .dataframe tbody tr th:only-of-type {\n",
       "        vertical-align: middle;\n",
       "    }\n",
       "\n",
       "    .dataframe tbody tr th {\n",
       "        vertical-align: top;\n",
       "    }\n",
       "\n",
       "    .dataframe thead th {\n",
       "        text-align: right;\n",
       "    }\n",
       "</style>\n",
       "<table border=\"1\" class=\"dataframe\">\n",
       "  <thead>\n",
       "    <tr style=\"text-align: right;\">\n",
       "      <th></th>\n",
       "      <th>continent</th>\n",
       "      <th>location</th>\n",
       "      <th>date</th>\n",
       "      <th>total_cases</th>\n",
       "      <th>total_deaths</th>\n",
       "      <th>gdp_per_capita</th>\n",
       "      <th>human_development_index</th>\n",
       "      <th>month</th>\n",
       "    </tr>\n",
       "  </thead>\n",
       "  <tbody>\n",
       "    <tr>\n",
       "      <th>0</th>\n",
       "      <td>Asia</td>\n",
       "      <td>Afghanistan</td>\n",
       "      <td>31/12/19</td>\n",
       "      <td>NaN</td>\n",
       "      <td>NaN</td>\n",
       "      <td>1803.987</td>\n",
       "      <td>0.498</td>\n",
       "      <td>12</td>\n",
       "    </tr>\n",
       "    <tr>\n",
       "      <th>1</th>\n",
       "      <td>Asia</td>\n",
       "      <td>Afghanistan</td>\n",
       "      <td>01/01/20</td>\n",
       "      <td>NaN</td>\n",
       "      <td>NaN</td>\n",
       "      <td>1803.987</td>\n",
       "      <td>0.498</td>\n",
       "      <td>1</td>\n",
       "    </tr>\n",
       "    <tr>\n",
       "      <th>2</th>\n",
       "      <td>Asia</td>\n",
       "      <td>Afghanistan</td>\n",
       "      <td>02/01/20</td>\n",
       "      <td>NaN</td>\n",
       "      <td>NaN</td>\n",
       "      <td>1803.987</td>\n",
       "      <td>0.498</td>\n",
       "      <td>2</td>\n",
       "    </tr>\n",
       "    <tr>\n",
       "      <th>3</th>\n",
       "      <td>Asia</td>\n",
       "      <td>Afghanistan</td>\n",
       "      <td>03/01/20</td>\n",
       "      <td>NaN</td>\n",
       "      <td>NaN</td>\n",
       "      <td>1803.987</td>\n",
       "      <td>0.498</td>\n",
       "      <td>3</td>\n",
       "    </tr>\n",
       "    <tr>\n",
       "      <th>4</th>\n",
       "      <td>Asia</td>\n",
       "      <td>Afghanistan</td>\n",
       "      <td>04/01/20</td>\n",
       "      <td>NaN</td>\n",
       "      <td>NaN</td>\n",
       "      <td>1803.987</td>\n",
       "      <td>0.498</td>\n",
       "      <td>4</td>\n",
       "    </tr>\n",
       "  </tbody>\n",
       "</table>\n",
       "</div>"
      ],
      "text/plain": [
       "  continent     location      date  total_cases  total_deaths  gdp_per_capita  \\\n",
       "0      Asia  Afghanistan  31/12/19          NaN           NaN        1803.987   \n",
       "1      Asia  Afghanistan  01/01/20          NaN           NaN        1803.987   \n",
       "2      Asia  Afghanistan  02/01/20          NaN           NaN        1803.987   \n",
       "3      Asia  Afghanistan  03/01/20          NaN           NaN        1803.987   \n",
       "4      Asia  Afghanistan  04/01/20          NaN           NaN        1803.987   \n",
       "\n",
       "   human_development_index  month  \n",
       "0                    0.498     12  \n",
       "1                    0.498      1  \n",
       "2                    0.498      2  \n",
       "3                    0.498      3  \n",
       "4                    0.498      4  "
      ]
     },
     "execution_count": 21,
     "metadata": {},
     "output_type": "execute_result"
    }
   ],
   "source": [
    "data[\"month\"] = pd.DatetimeIndex(data['date']).month\n",
    "data.head()"
   ]
  },
  {
   "cell_type": "markdown",
   "id": "cleared-stand",
   "metadata": {},
   "source": [
    "# Find max value in all columns using groupby function on 'continent'\n",
    "# Store the result in a new dataframe named 'df_groupby'."
   ]
  },
  {
   "cell_type": "code",
   "execution_count": 22,
   "id": "several-burke",
   "metadata": {
    "scrolled": true
   },
   "outputs": [
    {
     "data": {
      "text/plain": [
       "continent                  South America\n",
       "total_cases                299396.279534\n",
       "total_deaths                11078.139792\n",
       "gdp_per_capita               34460.88743\n",
       "human_development_index         0.868582\n",
       "month                            6.64985\n",
       "dtype: object"
      ]
     },
     "execution_count": 22,
     "metadata": {},
     "output_type": "execute_result"
    }
   ],
   "source": [
    "df_groupby = data.groupby(by = \"continent\").mean()\n",
    "df_groupby.reset_index(inplace=True)\n",
    "df_groupby.max()"
   ]
  },
  {
   "cell_type": "markdown",
   "id": "quality-herald",
   "metadata": {},
   "source": [
    "# Create a new feature 'total_deaths_to_total_cases' by ratio of 'total_deaths' column to 'total_cases'"
   ]
  },
  {
   "cell_type": "code",
   "execution_count": 23,
   "id": "individual-halifax",
   "metadata": {},
   "outputs": [
    {
     "data": {
      "text/plain": [
       "0   NaN\n",
       "1   NaN\n",
       "2   NaN\n",
       "3   NaN\n",
       "4   NaN\n",
       "Name: total_deaths_to_total_cases, dtype: float64"
      ]
     },
     "execution_count": 23,
     "metadata": {},
     "output_type": "execute_result"
    }
   ],
   "source": [
    "data['total_deaths_to_total_cases'] = data.total_deaths/data.total_cases\n",
    "data[\"total_deaths_to_total_cases\"].head()"
   ]
  },
  {
   "cell_type": "markdown",
   "id": "traditional-career",
   "metadata": {},
   "source": [
    "# Perform Univariate analysis on 'gdp_per_capita' column by plotting histogram using seaborn dist plot."
   ]
  },
  {
   "cell_type": "code",
   "execution_count": 24,
   "id": "operating-distance",
   "metadata": {},
   "outputs": [
    {
     "name": "stderr",
     "output_type": "stream",
     "text": [
      "E:\\Software\\Anaconda\\lib\\site-packages\\seaborn\\distributions.py:2557: FutureWarning: `distplot` is a deprecated function and will be removed in a future version. Please adapt your code to use either `displot` (a figure-level function with similar flexibility) or `histplot` (an axes-level function for histograms).\n",
      "  warnings.warn(msg, FutureWarning)\n"
     ]
    },
    {
     "data": {
      "text/plain": [
       "<AxesSubplot:xlabel='gdp_per_capita', ylabel='Density'>"
      ]
     },
     "execution_count": 24,
     "metadata": {},
     "output_type": "execute_result"
    },
    {
     "data": {
      "image/png": "[encoded data removed]",
      "text/plain": [
       "<Figure size 432x288 with 1 Axes>"
      ]
     },
     "metadata": {
      "needs_background": "light"
     },
     "output_type": "display_data"
    }
   ],
   "source": [
    "sns.distplot(data['gdp_per_capita'])"
   ]
  },
  {
   "cell_type": "markdown",
   "id": "municipal-frequency",
   "metadata": {},
   "source": [
    "# Plot a scatter plot of 'total_cases' & 'gdp_per_capita'"
   ]
  },
  {
   "cell_type": "code",
   "execution_count": 25,
   "id": "automated-algebra",
   "metadata": {},
   "outputs": [
    {
     "data": {
      "text/plain": [
       "<AxesSubplot:xlabel='gdp_per_capita', ylabel='total_cases'>"
      ]
     },
     "execution_count": 25,
     "metadata": {},
     "output_type": "execute_result"
    },
    {
     "data": {
      "image/png": "[encoded data removed]",
      "text/plain": [
       "<Figure size 432x288 with 1 Axes>"
      ]
     },
     "metadata": {
      "needs_background": "light"
     },
     "output_type": "display_data"
    }
   ],
   "source": [
    "sns.scatterplot(y = data[\"total_cases\"],x = data['gdp_per_capita'])"
   ]
  },
  {
   "cell_type": "markdown",
   "id": "educational-withdrawal",
   "metadata": {},
   "source": [
    "# Plot Pairplot on df_groupby dataset."
   ]
  },
  {
   "cell_type": "code",
   "execution_count": 26,
   "id": "vocal-alert",
   "metadata": {},
   "outputs": [
    {
     "data": {
      "text/plain": [
       "<seaborn.axisgrid.PairGrid at 0x1c0033a3250>"
      ]
     },
     "execution_count": 26,
     "metadata": {},
     "output_type": "execute_result"
    },
    {
     "data": {
      "image/png": "[encoded data removed]",
      "text/plain": [
       "<Figure size 900x900 with 30 Axes>"
      ]
     },
     "metadata": {
      "needs_background": "light"
     },
     "output_type": "display_data"
    }
   ],
   "source": [
    "sns.pairplot(data=df_groupby)"
   ]
  },
  {
   "cell_type": "markdown",
   "id": "robust-insert",
   "metadata": {},
   "source": [
    "# Plot a bar plot of 'continent' column with 'total_cases'"
   ]
  },
  {
   "cell_type": "code",
   "execution_count": 27,
   "id": "sustained-friendship",
   "metadata": {},
   "outputs": [
    {
     "data": {
      "image/png": "[encoded data removed]",
      "text/plain": [
       "<Figure size 864x720 with 1 Axes>"
      ]
     },
     "metadata": {
      "needs_background": "light"
     },
     "output_type": "display_data"
    }
   ],
   "source": [
    "barplt = sns.catplot(data=data,x='continent',y='total_cases',kind='bar')\n",
    "barplt.fig.set_figwidth(12)\n",
    "barplt.fig.set_figheight(10)"
   ]
  },
  {
   "cell_type": "markdown",
   "id": "reported-advertiser",
   "metadata": {},
   "source": [
    "# Save the df_groupby dataframe in your local drive using pandas.to_csv function."
   ]
  },
  {
   "cell_type": "code",
   "execution_count": 28,
   "id": "dress-material",
   "metadata": {},
   "outputs": [],
   "source": [
    "df_groupby.to_csv(\"Covid_groupby.csv\")"
   ]
  },
  {
   "cell_type": "code",
   "execution_count": null,
   "id": "christian-raleigh",
   "metadata": {},
   "outputs": [],
   "source": []
  }
 ],
 "metadata": {
  "kernelspec": {
   "display_name": "Python 3",
   "language": "python",
   "name": "python3"
  },
  "language_info": {
   "codemirror_mode": {
    "name": "ipython",
    "version": 3
   },
   "file_extension": ".py",
   "mimetype": "text/x-python",
   "name": "python",
   "nbconvert_exporter": "python",
   "pygments_lexer": "ipython3",
   "version": "3.8.5"
  }
 },
 "nbformat": 4,
 "nbformat_minor": 5
}
